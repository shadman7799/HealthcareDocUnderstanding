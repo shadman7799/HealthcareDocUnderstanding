{
 "cells": [
  {
   "cell_type": "code",
   "execution_count": 1,
   "metadata": {},
   "outputs": [
    {
     "data": {
      "text/html": [
       "<div>\n",
       "<style scoped>\n",
       "    .dataframe tbody tr th:only-of-type {\n",
       "        vertical-align: middle;\n",
       "    }\n",
       "\n",
       "    .dataframe tbody tr th {\n",
       "        vertical-align: top;\n",
       "    }\n",
       "\n",
       "    .dataframe thead th {\n",
       "        text-align: right;\n",
       "    }\n",
       "</style>\n",
       "<table border=\"1\" class=\"dataframe\">\n",
       "  <thead>\n",
       "    <tr style=\"text-align: right;\">\n",
       "      <th></th>\n",
       "      <th>Image</th>\n",
       "      <th>Label</th>\n",
       "    </tr>\n",
       "  </thead>\n",
       "  <tbody>\n",
       "    <tr>\n",
       "      <th>751223</th>\n",
       "      <td>data/train/25/184.jpg</td>\n",
       "      <td>25</td>\n",
       "    </tr>\n",
       "    <tr>\n",
       "      <th>751224</th>\n",
       "      <td>data/train/25/2119.jpg</td>\n",
       "      <td>25</td>\n",
       "    </tr>\n",
       "    <tr>\n",
       "      <th>751225</th>\n",
       "      <td>data/train/25/_1_981.jpg</td>\n",
       "      <td>25</td>\n",
       "    </tr>\n",
       "    <tr>\n",
       "      <th>751226</th>\n",
       "      <td>data/train/25/1376.jpg</td>\n",
       "      <td>25</td>\n",
       "    </tr>\n",
       "    <tr>\n",
       "      <th>751227</th>\n",
       "      <td>data/train/25/_1_759.jpg</td>\n",
       "      <td>25</td>\n",
       "    </tr>\n",
       "  </tbody>\n",
       "</table>\n",
       "</div>"
      ],
      "text/plain": [
       "                           Image Label\n",
       "751223     data/train/25/184.jpg    25\n",
       "751224    data/train/25/2119.jpg    25\n",
       "751225  data/train/25/_1_981.jpg    25\n",
       "751226    data/train/25/1376.jpg    25\n",
       "751227  data/train/25/_1_759.jpg    25"
      ]
     },
     "execution_count": 1,
     "metadata": {},
     "output_type": "execute_result"
    }
   ],
   "source": [
    "import os\n",
    "import pandas as pd\n",
    "\n",
    "data = []\n",
    "root_dir = 'dataset'\n",
    "\n",
    "for label in os.listdir(root_dir):\n",
    "    if label == '.DS_Store': continue\n",
    "    \n",
    "    label_path = os.path.join(root_dir, label)\n",
    "    \n",
    "    if os.path.isdir(label_path):\n",
    "        for image in os.listdir(label_path):\n",
    "            if image.endswith(('.jpg', '.jpeg', '.png')):\n",
    "                image_path = os.path.join(label_path, image)\n",
    "                data.append({'Image': image_path, 'Label': label})\n",
    "\n",
    "df = pd.DataFrame(data)\n",
    "df.tail()"
   ]
  },
  {
   "cell_type": "code",
   "execution_count": 2,
   "metadata": {},
   "outputs": [
    {
     "data": {
      "text/html": [
       "<div>\n",
       "<style scoped>\n",
       "    .dataframe tbody tr th:only-of-type {\n",
       "        vertical-align: middle;\n",
       "    }\n",
       "\n",
       "    .dataframe tbody tr th {\n",
       "        vertical-align: top;\n",
       "    }\n",
       "\n",
       "    .dataframe thead th {\n",
       "        text-align: right;\n",
       "    }\n",
       "</style>\n",
       "<table border=\"1\" class=\"dataframe\">\n",
       "  <thead>\n",
       "    <tr style=\"text-align: right;\">\n",
       "      <th></th>\n",
       "      <th>Image</th>\n",
       "      <th>Label</th>\n",
       "    </tr>\n",
       "  </thead>\n",
       "  <tbody>\n",
       "    <tr>\n",
       "      <th>0</th>\n",
       "      <td>data/train/R/63.jpg</td>\n",
       "      <td>R</td>\n",
       "    </tr>\n",
       "    <tr>\n",
       "      <th>1</th>\n",
       "      <td>data/train/R/_1_740.jpg</td>\n",
       "      <td>R</td>\n",
       "    </tr>\n",
       "    <tr>\n",
       "      <th>2</th>\n",
       "      <td>data/train/R/_1_5907.jpg</td>\n",
       "      <td>R</td>\n",
       "    </tr>\n",
       "    <tr>\n",
       "      <th>3</th>\n",
       "      <td>data/train/R/823.jpg</td>\n",
       "      <td>R</td>\n",
       "    </tr>\n",
       "    <tr>\n",
       "      <th>4</th>\n",
       "      <td>data/train/R/_1_998.jpg</td>\n",
       "      <td>R</td>\n",
       "    </tr>\n",
       "  </tbody>\n",
       "</table>\n",
       "</div>"
      ],
      "text/plain": [
       "                      Image Label\n",
       "0       data/train/R/63.jpg     R\n",
       "1   data/train/R/_1_740.jpg     R\n",
       "2  data/train/R/_1_5907.jpg     R\n",
       "3      data/train/R/823.jpg     R\n",
       "4   data/train/R/_1_998.jpg     R"
      ]
     },
     "execution_count": 2,
     "metadata": {},
     "output_type": "execute_result"
    }
   ],
   "source": [
    "df.head()"
   ]
  },
  {
   "cell_type": "code",
   "execution_count": 8,
   "metadata": {},
   "outputs": [
    {
     "name": "stdout",
     "output_type": "stream",
     "text": [
      "['0', '1', '2', '3', '4', '5', '6', '7', '8', '9', 'A', 'B', 'C', 'D', 'E', 'F', 'G', 'H', 'I', 'J', 'K', 'L', 'M', 'N', 'P', 'Q', 'R', 'S', 'T', 'U', 'V', 'W', 'X', 'Y', 'Z']\n"
     ]
    }
   ],
   "source": [
    "labels = os.listdir(root_dir)\n",
    "labels.remove('.DS_Store')\n",
    "labels = sorted(labels)\n",
    "print(labels)"
   ]
  },
  {
   "cell_type": "code",
   "execution_count": 11,
   "metadata": {},
   "outputs": [
    {
     "name": "stdout",
     "output_type": "stream",
     "text": [
      "{'0': '0', '1': '1', '2': '2', '3': '3', '4': '4', '5': '5', '6': '6', '7': '7', '8': '8', '9': '9', 'A': '10', 'B': '11', 'C': '12', 'D': '13', 'E': '14', 'F': '15', 'G': '16', 'H': '17', 'I': '18', 'J': '19', 'K': '20', 'L': '21', 'M': '22', 'N': '23', 'P': '24', 'Q': '25', 'R': '26', 'S': '27', 'T': '28', 'U': '29', 'V': '30', 'W': '31', 'X': '32', 'Y': '33', 'Z': '34'}\n"
     ]
    }
   ],
   "source": [
    "encoded = {labels[i]: str(i) for i in range(len(labels))}\n",
    "print(encoded)"
   ]
  },
  {
   "cell_type": "code",
   "execution_count": 13,
   "metadata": {},
   "outputs": [],
   "source": [
    "import cv2\n",
    "\n",
    "def process_images(dir, data):\n",
    "    for idx, row in data.iterrows():\n",
    "        image_path = row['Image']\n",
    "        label = str(row['Label'])\n",
    "        \n",
    "        label_directory = os.path.join(dir, label)\n",
    "        os.makedirs(label_directory, exist_ok=True)\n",
    "        \n",
    "        image = cv2.imread(image_path)\n",
    "        \n",
    "        if image is not None:\n",
    "            # inverted_image = cv2.bitwise_not(image)\n",
    "            image_filename = os.path.basename(image_path)\n",
    "            \n",
    "            save_path = os.path.join(label_directory, image_filename)\n",
    "            cv2.imwrite(save_path, image)\n",
    "        else:\n",
    "            print(f'Error loading image: {image_path}')\n",
    "\n",
    "    print(f'{idx - 1} images copied to {dir}')"
   ]
  },
  {
   "cell_type": "code",
   "execution_count": 14,
   "metadata": {},
   "outputs": [
    {
     "name": "stdout",
     "output_type": "stream",
     "text": [
      "751226 images copied to data/train\n"
     ]
    }
   ],
   "source": [
    "process_images(root_dir, df)"
   ]
  },
  {
   "cell_type": "code",
   "execution_count": 5,
   "metadata": {},
   "outputs": [],
   "source": [
    "train_dir = 'data2/train'\n",
    "valid_dir = 'data2/validation'"
   ]
  },
  {
   "cell_type": "code",
   "execution_count": 6,
   "metadata": {},
   "outputs": [],
   "source": [
    "labels = ['0', '1', '2', '3', '4', '5', '6', '7', '8', '9', 'A', 'B', 'C', 'D', 'E', 'F', 'G', 'H', 'I', 'J', 'K', 'L', 'M', 'N', 'P', 'Q', 'R', 'S', 'T', 'U', 'V', 'W', 'X', 'Y', 'Z', '+', '-', '(', ')']"
   ]
  },
  {
   "cell_type": "code",
   "execution_count": 7,
   "metadata": {},
   "outputs": [
    {
     "name": "stdout",
     "output_type": "stream",
     "text": [
      "{'0': '0', '1': '1', '2': '2', '3': '3', '4': '4', '5': '5', '6': '6', '7': '7', '8': '8', '9': '9', 'A': '10', 'B': '11', 'C': '12', 'D': '13', 'E': '14', 'F': '15', 'G': '16', 'H': '17', 'I': '18', 'J': '19', 'K': '20', 'L': '21', 'M': '22', 'N': '23', 'P': '24', 'Q': '25', 'R': '26', 'S': '27', 'T': '28', 'U': '29', 'V': '30', 'W': '31', 'X': '32', 'Y': '33', 'Z': '34', '+': '35', '-': '36', '(': '37', ')': '38'}\n"
     ]
    }
   ],
   "source": [
    "encoded = {labels[i]: str(i) for i in range(len(labels))}\n",
    "print(encoded)"
   ]
  },
  {
   "cell_type": "code",
   "execution_count": 8,
   "metadata": {},
   "outputs": [
    {
     "name": "stdout",
     "output_type": "stream",
     "text": [
      "No mapping found for .DS_Store\n",
      "Renamed R to 26\n",
      "Renamed U to 29\n",
      "Renamed 9 to 9\n",
      "Renamed 0 to 0\n",
      "Renamed 7 to 7\n",
      "Renamed I to 18\n",
      "Renamed N to 23\n",
      "Renamed G to 16\n",
      "Renamed + to 35\n",
      "Renamed 6 to 6\n",
      "Renamed Z to 34\n",
      "Renamed 1 to 1\n",
      "Renamed 8 to 8\n",
      "Renamed T to 28\n",
      "Renamed S to 27\n",
      "Renamed A to 10\n",
      "Renamed - to 36\n",
      "Renamed F to 15\n",
      "Renamed H to 17\n",
      "Renamed M to 22\n",
      "Renamed J to 19\n",
      "Renamed C to 12\n",
      "Renamed ( to 37\n",
      "Renamed D to 13\n",
      "Renamed V to 30\n",
      "Renamed Q to 25\n",
      "Renamed 4 to 4\n",
      "Renamed X to 32\n",
      "Renamed 3 to 3\n",
      "Renamed E to 14\n",
      "Renamed ) to 38\n",
      "Renamed B to 11\n",
      "Renamed K to 20\n",
      "Renamed L to 21\n",
      "Renamed 2 to 2\n",
      "Renamed Y to 33\n",
      "Renamed 5 to 5\n",
      "Renamed P to 24\n",
      "Renamed W to 31\n",
      "No mapping found for .DS_Store\n",
      "Renamed R to 26\n",
      "Renamed U to 29\n",
      "Renamed 9 to 9\n",
      "Renamed 0 to 0\n",
      "Renamed 7 to 7\n",
      "Renamed I to 18\n",
      "Renamed N to 23\n",
      "Renamed G to 16\n",
      "Renamed + to 35\n",
      "Renamed 6 to 6\n",
      "Renamed Z to 34\n",
      "Renamed 1 to 1\n",
      "Renamed 8 to 8\n",
      "Renamed T to 28\n",
      "Renamed S to 27\n",
      "Renamed A to 10\n",
      "Renamed - to 36\n",
      "Renamed F to 15\n",
      "Renamed H to 17\n",
      "Renamed M to 22\n",
      "Renamed J to 19\n",
      "Renamed C to 12\n",
      "Renamed ( to 37\n",
      "Renamed D to 13\n",
      "Renamed V to 30\n",
      "Renamed Q to 25\n",
      "Renamed 4 to 4\n",
      "Renamed X to 32\n",
      "Renamed 3 to 3\n",
      "Renamed E to 14\n",
      "Renamed ) to 38\n",
      "Renamed B to 11\n",
      "Renamed K to 20\n",
      "Renamed L to 21\n",
      "Renamed 2 to 2\n",
      "Renamed Y to 33\n",
      "Renamed 5 to 5\n",
      "Renamed P to 24\n",
      "Renamed W to 31\n"
     ]
    }
   ],
   "source": [
    "import os\n",
    "import shutil\n",
    "\n",
    "for dir in [train_dir, valid_dir]:\n",
    "    folders = os.listdir(dir)\n",
    "\n",
    "    for folder in folders:\n",
    "        if folder in encoded:\n",
    "            old_path = os.path.join(dir, folder)\n",
    "            new_name = encoded[folder]\n",
    "            new_path = os.path.join(dir, new_name)\n",
    "\n",
    "            shutil.move(old_path, new_path)\n",
    "            print(f'Renamed {folder} to {new_name}')\n",
    "        else:\n",
    "            print(f'No mapping found for {folder}')"
   ]
  },
  {
   "cell_type": "code",
   "execution_count": null,
   "metadata": {},
   "outputs": [],
   "source": []
  }
 ],
 "metadata": {
  "kernelspec": {
   "display_name": "Python 3",
   "language": "python",
   "name": "python3"
  },
  "language_info": {
   "codemirror_mode": {
    "name": "ipython",
    "version": 3
   },
   "file_extension": ".py",
   "mimetype": "text/x-python",
   "name": "python",
   "nbconvert_exporter": "python",
   "pygments_lexer": "ipython3",
   "version": "3.11.2"
  }
 },
 "nbformat": 4,
 "nbformat_minor": 2
}
